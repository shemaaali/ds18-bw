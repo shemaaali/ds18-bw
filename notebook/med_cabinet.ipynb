{
  "nbformat": 4,
  "nbformat_minor": 0,
  "metadata": {
    "colab": {
      "name": "med-cabinet.ipynb",
      "provenance": []
    },
    "kernelspec": {
      "name": "python3",
      "display_name": "Python 3"
    }
  },
  "cells": [
    {
      "cell_type": "code",
      "metadata": {
        "id": "foBF3o_iTon4"
      },
      "source": [
        "import pandas as pd\n",
        "import numpy as np\n",
        "import matplotlib.pyplot as plt\n",
        "import seaborn as sns"
      ],
      "execution_count": null,
      "outputs": []
    },
    {
      "cell_type": "code",
      "metadata": {
        "id": "v2oTGnEOT3-i",
        "outputId": "a891ac66-e900-4ae7-9744-a5e3d1c8aa84",
        "colab": {
          "base_uri": "https://localhost:8080/",
          "height": 268
        }
      },
      "source": [
        "df = pd.read_csv(\"/content/cannabis.csv.zip\")\n",
        "print(df.shape)\n",
        "df.head()"
      ],
      "execution_count": 23,
      "outputs": [
        {
          "output_type": "stream",
          "text": [
            "(2351, 6)\n"
          ],
          "name": "stdout"
        },
        {
          "output_type": "execute_result",
          "data": {
            "text/html": [
              "<div>\n",
              "<style scoped>\n",
              "    .dataframe tbody tr th:only-of-type {\n",
              "        vertical-align: middle;\n",
              "    }\n",
              "\n",
              "    .dataframe tbody tr th {\n",
              "        vertical-align: top;\n",
              "    }\n",
              "\n",
              "    .dataframe thead th {\n",
              "        text-align: right;\n",
              "    }\n",
              "</style>\n",
              "<table border=\"1\" class=\"dataframe\">\n",
              "  <thead>\n",
              "    <tr style=\"text-align: right;\">\n",
              "      <th></th>\n",
              "      <th>Strain</th>\n",
              "      <th>Type</th>\n",
              "      <th>Rating</th>\n",
              "      <th>Effects</th>\n",
              "      <th>Flavor</th>\n",
              "      <th>Description</th>\n",
              "    </tr>\n",
              "  </thead>\n",
              "  <tbody>\n",
              "    <tr>\n",
              "      <th>0</th>\n",
              "      <td>100-Og</td>\n",
              "      <td>hybrid</td>\n",
              "      <td>4.0</td>\n",
              "      <td>Creative,Energetic,Tingly,Euphoric,Relaxed</td>\n",
              "      <td>Earthy,Sweet,Citrus</td>\n",
              "      <td>$100 OG is a 50/50 hybrid strain that packs a ...</td>\n",
              "    </tr>\n",
              "    <tr>\n",
              "      <th>1</th>\n",
              "      <td>98-White-Widow</td>\n",
              "      <td>hybrid</td>\n",
              "      <td>4.7</td>\n",
              "      <td>Relaxed,Aroused,Creative,Happy,Energetic</td>\n",
              "      <td>Flowery,Violet,Diesel</td>\n",
              "      <td>The ‘98 Aloha White Widow is an especially pot...</td>\n",
              "    </tr>\n",
              "    <tr>\n",
              "      <th>2</th>\n",
              "      <td>1024</td>\n",
              "      <td>sativa</td>\n",
              "      <td>4.4</td>\n",
              "      <td>Uplifted,Happy,Relaxed,Energetic,Creative</td>\n",
              "      <td>Spicy/Herbal,Sage,Woody</td>\n",
              "      <td>1024 is a sativa-dominant hybrid bred in Spain...</td>\n",
              "    </tr>\n",
              "    <tr>\n",
              "      <th>3</th>\n",
              "      <td>13-Dawgs</td>\n",
              "      <td>hybrid</td>\n",
              "      <td>4.2</td>\n",
              "      <td>Tingly,Creative,Hungry,Relaxed,Uplifted</td>\n",
              "      <td>Apricot,Citrus,Grapefruit</td>\n",
              "      <td>13 Dawgs is a hybrid of G13 and Chemdawg genet...</td>\n",
              "    </tr>\n",
              "    <tr>\n",
              "      <th>4</th>\n",
              "      <td>24K-Gold</td>\n",
              "      <td>hybrid</td>\n",
              "      <td>4.6</td>\n",
              "      <td>Happy,Relaxed,Euphoric,Uplifted,Talkative</td>\n",
              "      <td>Citrus,Earthy,Orange</td>\n",
              "      <td>Also known as Kosher Tangie, 24k Gold is a 60%...</td>\n",
              "    </tr>\n",
              "  </tbody>\n",
              "</table>\n",
              "</div>"
            ],
            "text/plain": [
              "           Strain  ...                                        Description\n",
              "0          100-Og  ...  $100 OG is a 50/50 hybrid strain that packs a ...\n",
              "1  98-White-Widow  ...  The ‘98 Aloha White Widow is an especially pot...\n",
              "2            1024  ...  1024 is a sativa-dominant hybrid bred in Spain...\n",
              "3        13-Dawgs  ...  13 Dawgs is a hybrid of G13 and Chemdawg genet...\n",
              "4        24K-Gold  ...  Also known as Kosher Tangie, 24k Gold is a 60%...\n",
              "\n",
              "[5 rows x 6 columns]"
            ]
          },
          "metadata": {
            "tags": []
          },
          "execution_count": 23
        }
      ]
    },
    {
      "cell_type": "code",
      "metadata": {
        "id": "_GSbF3i6UXcw",
        "outputId": "2d2e9aa6-028e-4277-f8b1-4f27718a296d",
        "colab": {
          "base_uri": "https://localhost:8080/",
          "height": 245
        }
      },
      "source": [
        "df.info()"
      ],
      "execution_count": 6,
      "outputs": [
        {
          "output_type": "stream",
          "text": [
            "<class 'pandas.core.frame.DataFrame'>\n",
            "RangeIndex: 2351 entries, 0 to 2350\n",
            "Data columns (total 6 columns):\n",
            " #   Column       Non-Null Count  Dtype  \n",
            "---  ------       --------------  -----  \n",
            " 0   Strain       2351 non-null   object \n",
            " 1   Type         2351 non-null   object \n",
            " 2   Rating       2351 non-null   float64\n",
            " 3   Effects      2351 non-null   object \n",
            " 4   Flavor       2305 non-null   object \n",
            " 5   Description  2318 non-null   object \n",
            "dtypes: float64(1), object(5)\n",
            "memory usage: 110.3+ KB\n"
          ],
          "name": "stdout"
        }
      ]
    },
    {
      "cell_type": "code",
      "metadata": {
        "id": "T-3t8kb6UiUo",
        "outputId": "d237a42f-8d6e-491f-d3a9-46a50161b0bb",
        "colab": {
          "base_uri": "https://localhost:8080/",
          "height": 140
        }
      },
      "source": [
        "df.isnull().sum()"
      ],
      "execution_count": 7,
      "outputs": [
        {
          "output_type": "execute_result",
          "data": {
            "text/plain": [
              "Strain          0\n",
              "Type            0\n",
              "Rating          0\n",
              "Effects         0\n",
              "Flavor         46\n",
              "Description    33\n",
              "dtype: int64"
            ]
          },
          "metadata": {
            "tags": []
          },
          "execution_count": 7
        }
      ]
    },
    {
      "cell_type": "code",
      "metadata": {
        "id": "X1pRK248U67K",
        "outputId": "b15c5444-d9f8-4b77-d1db-c470c5db82f8",
        "colab": {
          "base_uri": "https://localhost:8080/",
          "height": 290
        }
      },
      "source": [
        "df.describe()"
      ],
      "execution_count": 10,
      "outputs": [
        {
          "output_type": "execute_result",
          "data": {
            "text/html": [
              "<div>\n",
              "<style scoped>\n",
              "    .dataframe tbody tr th:only-of-type {\n",
              "        vertical-align: middle;\n",
              "    }\n",
              "\n",
              "    .dataframe tbody tr th {\n",
              "        vertical-align: top;\n",
              "    }\n",
              "\n",
              "    .dataframe thead th {\n",
              "        text-align: right;\n",
              "    }\n",
              "</style>\n",
              "<table border=\"1\" class=\"dataframe\">\n",
              "  <thead>\n",
              "    <tr style=\"text-align: right;\">\n",
              "      <th></th>\n",
              "      <th>Rating</th>\n",
              "    </tr>\n",
              "  </thead>\n",
              "  <tbody>\n",
              "    <tr>\n",
              "      <th>count</th>\n",
              "      <td>2351.000000</td>\n",
              "    </tr>\n",
              "    <tr>\n",
              "      <th>mean</th>\n",
              "      <td>4.310634</td>\n",
              "    </tr>\n",
              "    <tr>\n",
              "      <th>std</th>\n",
              "      <td>0.836394</td>\n",
              "    </tr>\n",
              "    <tr>\n",
              "      <th>min</th>\n",
              "      <td>0.000000</td>\n",
              "    </tr>\n",
              "    <tr>\n",
              "      <th>25%</th>\n",
              "      <td>4.200000</td>\n",
              "    </tr>\n",
              "    <tr>\n",
              "      <th>50%</th>\n",
              "      <td>4.400000</td>\n",
              "    </tr>\n",
              "    <tr>\n",
              "      <th>75%</th>\n",
              "      <td>4.700000</td>\n",
              "    </tr>\n",
              "    <tr>\n",
              "      <th>max</th>\n",
              "      <td>5.000000</td>\n",
              "    </tr>\n",
              "  </tbody>\n",
              "</table>\n",
              "</div>"
            ],
            "text/plain": [
              "            Rating\n",
              "count  2351.000000\n",
              "mean      4.310634\n",
              "std       0.836394\n",
              "min       0.000000\n",
              "25%       4.200000\n",
              "50%       4.400000\n",
              "75%       4.700000\n",
              "max       5.000000"
            ]
          },
          "metadata": {
            "tags": []
          },
          "execution_count": 10
        }
      ]
    },
    {
      "cell_type": "code",
      "metadata": {
        "id": "GBa3wb_ouLOO",
        "outputId": "ba38885a-ea31-400d-868e-4368e96f1ad9",
        "colab": {
          "base_uri": "https://localhost:8080/",
          "height": 469
        }
      },
      "source": [
        "plt.figure(figsize=(12,6))\n",
        "\n",
        "# total rating distribuition\n",
        "d = sns.distplot(df[\"Rating\"],\n",
        "                 bins=50)\n",
        "d.set_title(\"Rating distribuition\", \n",
        "            size = 20)\n",
        "d.set_xlabel('Rating',\n",
        "             fontsize=15)\n",
        "\n",
        "plt.show()"
      ],
      "execution_count": 31,
      "outputs": [
        {
          "output_type": "stream",
          "text": [
            "/usr/local/lib/python3.6/dist-packages/seaborn/distributions.py:2551: FutureWarning: `distplot` is a deprecated function and will be removed in a future version. Please adapt your code to use either `displot` (a figure-level function with similar flexibility) or `histplot` (an axes-level function for histograms).\n",
            "  warnings.warn(msg, FutureWarning)\n"
          ],
          "name": "stderr"
        },
        {
          "output_type": "display_data",
          "data": {
            "image/png": "[encoded data removed]",
            "text/plain": [
              "<Figure size 864x432 with 1 Axes>"
            ]
          },
          "metadata": {
            "tags": [],
            "needs_background": "light"
          }
        }
      ]
    },
    {
      "cell_type": "code",
      "metadata": {
        "id": "pzv4LOsbtfnf",
        "outputId": "10879652-d91a-4b67-da45-bf93fb1c81e4",
        "colab": {
          "base_uri": "https://localhost:8080/",
          "height": 418
        }
      },
      "source": [
        "#look at the distribuition of each types\n",
        "total = len(df)\n",
        "plt.figure(figsize=(10,6))\n",
        "\n",
        "d = sns.countplot(x=\"Type\", data=df, \n",
        "                  palette='hls', color='blue')\n",
        "d.set_title(\"Cannabis Species Count \", fontsize=22)\n",
        "d.set_xlabel('Species', fontsize=18)\n",
        "d.set_ylabel('Count', fontsize=18)\n",
        "sizes=[]\n",
        "for s in d.patches:\n",
        "    height = s.get_height()\n",
        "    sizes.append(height)\n",
        "    d.text(s.get_x()+s.get_width()/2.,\n",
        "            height + 3,\n",
        "            '{:1.2f}%'.format(height/total*100),\n",
        "            ha=\"center\", fontsize=14) \n",
        "d.set_ylim(0, max(sizes) * 1.10)\n",
        "\n",
        "plt.show()"
      ],
      "execution_count": 26,
      "outputs": [
        {
          "output_type": "display_data",
          "data": {
            "image/png": "[encoded data removed]",
            "text/plain": [
              "<Figure size 720x432 with 1 Axes>"
            ]
          },
          "metadata": {
            "tags": [],
            "needs_background": "light"
          }
        }
      ]
    },
    {
      "cell_type": "code",
      "metadata": {
        "id": "wc0BOwdNu1t3",
        "outputId": "ba7ad49d-9889-43c0-82eb-ca941e38657e",
        "colab": {
          "base_uri": "https://localhost:8080/",
          "height": 404
        }
      },
      "source": [
        "# using the boxplot to explore the Rating distribuition by Type\n",
        "plt.figure(figsize=(10,6))\n",
        "dis_type = {\"hybrid\": \"y\", \"sativa\": \"g\", \"indica\":\"r\"}\n",
        "\n",
        "d1 = sns.boxplot(x=\"Type\",y=\"Rating\",  palette=dis_type,\n",
        "                data=df[df[\"Rating\"] > 2])\n",
        "d1.set_title(\"Boxplot of Distribuition by Species Type\", \n",
        "            fontsize=20)\n",
        "d1.set_xlabel(\"Species\", fontsize=17)\n",
        "d1.set_ylabel(\"Rating\", fontsize=17)\n",
        "\n",
        "plt.subplots_adjust(wspace = 0.3, hspace = 0.4,top = 0.85)\n",
        "\n",
        "plt.show()"
      ],
      "execution_count": 33,
      "outputs": [
        {
          "output_type": "display_data",
          "data": {
            "image/png": "[encoded data removed]",
            "text/plain": [
              "<Figure size 720x432 with 1 Axes>"
            ]
          },
          "metadata": {
            "tags": [],
            "needs_background": "light"
          }
        }
      ]
    },
    {
      "cell_type": "code",
      "metadata": {
        "id": "mQGyak-av3Ha"
      },
      "source": [
        "# get the effect of each strain and favor\n",
        "# extract the values in Effects and Flavor and pass to a new column\n",
        "df_effect = pd.DataFrame(df.Effects.str.split(',',4).tolist(),\n",
        "             columns = ['Effect_1','Effect_2','Effect_3','Effect_4','Effect_5'])\n",
        "\n",
        "df_flavors = pd.DataFrame(df.Flavor.str.split(',',n=2,expand=True).values.tolist(),\n",
        "                          columns = ['Flavor_1','Flavor_2','Flavor_3'])"
      ],
      "execution_count": 34,
      "outputs": []
    },
    {
      "cell_type": "code",
      "metadata": {
        "id": "mhkqJOOjwhBF",
        "outputId": "9d401166-3f72-44d9-fe17-867f45b37d7f",
        "colab": {
          "base_uri": "https://localhost:8080/",
          "height": 87
        }
      },
      "source": [
        "# concate the new variables with strains\n",
        "df = pd.concat([df, df_effect], axis=1)\n",
        "df = pd.concat([df, df_flavors], axis=1)\n",
        "\n",
        "# look the result\n",
        "df.head()\n",
        "\n",
        "df.columns"
      ],
      "execution_count": 36,
      "outputs": [
        {
          "output_type": "execute_result",
          "data": {
            "text/plain": [
              "Index(['Strain', 'Type', 'Rating', 'Effects', 'Flavor', 'Description',\n",
              "       'Effect_1', 'Effect_2', 'Effect_3', 'Effect_4', 'Effect_5', 'Flavor_1',\n",
              "       'Flavor_2', 'Flavor_3'],\n",
              "      dtype='object')"
            ]
          },
          "metadata": {
            "tags": []
          },
          "execution_count": 36
        }
      ]
    },
    {
      "cell_type": "code",
      "metadata": {
        "id": "QMGkBAtAzDPO"
      },
      "source": [
        "# create a subsets for each type\n",
        "hibridas = df[df.Type == 'hybrid']\n",
        "indicas = df[df.Type == 'indica']\n",
        "sativas = df[df.Type == 'sativa']"
      ],
      "execution_count": 42,
      "outputs": []
    },
    {
      "cell_type": "code",
      "metadata": {
        "id": "eH_4j3x7yUdP"
      },
      "source": [
        "# define a function to create a spliter\n",
        "def get_effects(dataframe):\n",
        "    ret_dict = {}\n",
        "    for list_ef in dataframe.Effects:\n",
        "        effects_list = list_ef.split(',')\n",
        "        for effect in effects_list:\n",
        "            if not effect in ret_dict:\n",
        "                ret_dict[effect] = 1\n",
        "            else:\n",
        "                ret_dict[effect] += 1\n",
        "    return ret_dict"
      ],
      "execution_count": 43,
      "outputs": []
    },
    {
      "cell_type": "code",
      "metadata": {
        "id": "53gZ8W8XyDt2"
      },
      "source": [
        "# runing flavors counts to sativas\n",
        "sativa_effects = get_effects(sativas)\n",
        "sativa_effects = pd.DataFrame.from_dict(sativa_effects,\n",
        "                                        orient='index').reset_index().rename(columns={'index': 'effects', \n",
        "                                                                                      0:'count'})\n",
        "\n",
        "# get indicas flavors\n",
        "indica_effects = get_effects(indicas)\n",
        "indica_effects = pd.DataFrame.from_dict(indica_effects,\n",
        "                                        orient='index').reset_index().rename(columns={'index': 'effects', \n",
        "                                                                                      0:'count'})\n",
        "\n",
        "# get hibridas flavors\n",
        "hibridas_effects = get_effects(hibridas)\n",
        "hibridas_effects = pd.DataFrame.from_dict(hibridas_effects,\n",
        "                                          orient='index').reset_index().rename(columns={'index': 'effects',\n",
        "                                                                                        0:'count'})"
      ],
      "execution_count": 44,
      "outputs": []
    },
    {
      "cell_type": "code",
      "metadata": {
        "id": "BzvrFOLPxdG7",
        "outputId": "b8cef79c-1c37-49bd-9e27-11aea7f8f6ee",
        "colab": {
          "base_uri": "https://localhost:8080/",
          "height": 804
        }
      },
      "source": [
        "# first effects related by cannabis species\n",
        "plt.figure(figsize=(16,12))\n",
        "\n",
        "plt.suptitle('FIRST EFFECTS RELATED BY CANNABIS SPECIES', fontsize=23)\n",
        "\n",
        "plt.subplot(131)\n",
        "g = sns.barplot(y='effects', x='count', order=sativa_effects.effects.values,\n",
        "                data=sativa_effects, orient='h')\n",
        "g.set_xlabel(\"Count\", fontsize=12)\n",
        "g.set_ylabel(\"Most related Effeects\", fontsize=16)\n",
        "g.set_title(\"Sativa Effeects distribution\", fontsize=16)\n",
        "\n",
        "\n",
        "plt.subplot(132)\n",
        "g1 = sns.barplot(y='effects', x='count', order=sativa_effects.effects.values,\n",
        "                data=indica_effects, orient='h')\n",
        "g1.set_xlabel(\"Count\", fontsize=12)\n",
        "g1.set_ylabel(\"\",fontsize=12)\n",
        "g1.set_title(\"Indica Effeects distribution\", fontsize=16)\n",
        "\n",
        "\n",
        "plt.subplot(133)\n",
        "g2 = sns.barplot(y='effects', x='count', order=sativa_effects.effects.values, \n",
        "                data=hibridas_effects, orient='h')\n",
        "plt.xlabel(\"Count\", fontsize=12)\n",
        "plt.ylabel(\"\", fontsize=12)\n",
        "plt.title(\"Hibrid Effects distribution\", fontsize=16)\n",
        "\n",
        "plt.subplots_adjust(wspace = 0.4,top = 0.90)\n",
        "\n",
        "plt.show()"
      ],
      "execution_count": 46,
      "outputs": [
        {
          "output_type": "display_data",
          "data": {
            "image/png": "[encoded data removed]",
            "text/plain": [
              "<Figure size 1152x864 with 3 Axes>"
            ]
          },
          "metadata": {
            "tags": [],
            "needs_background": "light"
          }
        }
      ]
    }
  ]
}